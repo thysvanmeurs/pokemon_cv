{
 "cells": [
  {
   "cell_type": "code",
   "execution_count": 92,
   "metadata": {},
   "outputs": [],
   "source": [
    "import numpy as np\n",
    "import sys\n",
    "import os\n",
    "import pandas as pd\n",
    "import tensorflow as tf\n",
    "import matplotlib.pyplot as plt\n",
    "\n"
   ]
  },
  {
   "attachments": {},
   "cell_type": "markdown",
   "metadata": {},
   "source": [
    "## Import data set"
   ]
  },
  {
   "cell_type": "code",
   "execution_count": 87,
   "metadata": {},
   "outputs": [],
   "source": [
    "file_path = \"I:\\\\Users\\\\Thijs\\\\Downloads\\\\pokemon_dataset\\\\dataset\"\n",
    "\n",
    "classes_ = [f for f in os.listdir(file_path) if os.path.isdir(os.path.join(file_path, f))]\n",
    "BATCH_SIZE = 32\n"
   ]
  },
  {
   "cell_type": "code",
   "execution_count": 108,
   "metadata": {},
   "outputs": [
    {
     "ename": "TypeError",
     "evalue": "Unknown keywords argument(s): ('target_size',)",
     "output_type": "error",
     "traceback": [
      "\u001b[1;31m---------------------------------------------------------------------------\u001b[0m",
      "\u001b[1;31mTypeError\u001b[0m                                 Traceback (most recent call last)",
      "Cell \u001b[1;32mIn[108], line 1\u001b[0m\n\u001b[1;32m----> 1\u001b[0m imageDataset_train, imageDataset_test \u001b[39m=\u001b[39m tf\u001b[39m.\u001b[39;49mkeras\u001b[39m.\u001b[39;49mutils\u001b[39m.\u001b[39;49mimage_dataset_from_directory(file_path,\n\u001b[0;32m      2\u001b[0m                                             labels\u001b[39m=\u001b[39;49m\u001b[39m'\u001b[39;49m\u001b[39minferred\u001b[39;49m\u001b[39m'\u001b[39;49m,\n\u001b[0;32m      3\u001b[0m                                             label_mode \u001b[39m=\u001b[39;49m \u001b[39m'\u001b[39;49m\u001b[39mcategorical\u001b[39;49m\u001b[39m'\u001b[39;49m,\n\u001b[0;32m      4\u001b[0m                                             class_names \u001b[39m=\u001b[39;49m classes_,\n\u001b[0;32m      5\u001b[0m                                             subset \u001b[39m=\u001b[39;49m \u001b[39m'\u001b[39;49m\u001b[39mboth\u001b[39;49m\u001b[39m'\u001b[39;49m, validation_split \u001b[39m=\u001b[39;49m \u001b[39m0.4\u001b[39;49m,\n\u001b[0;32m      6\u001b[0m                                             shuffle \u001b[39m=\u001b[39;49m \u001b[39mTrue\u001b[39;49;00m, seed \u001b[39m=\u001b[39;49m \u001b[39m42\u001b[39;49m,\n\u001b[0;32m      7\u001b[0m                                             target_size \u001b[39m=\u001b[39;49m (\u001b[39m254\u001b[39;49m, \u001b[39m254\u001b[39;49m),\n\u001b[0;32m      8\u001b[0m                                             batch_size \u001b[39m=\u001b[39;49m BATCH_SIZE)\n",
      "File \u001b[1;32m~\\AppData\\Roaming\\Python\\Python311\\site-packages\\keras\\src\\utils\\image_dataset.py:165\u001b[0m, in \u001b[0;36mimage_dataset_from_directory\u001b[1;34m(directory, labels, label_mode, class_names, color_mode, batch_size, image_size, shuffle, seed, validation_split, subset, interpolation, follow_links, crop_to_aspect_ratio, **kwargs)\u001b[0m\n\u001b[0;32m    163\u001b[0m     crop_to_aspect_ratio \u001b[39m=\u001b[39m kwargs\u001b[39m.\u001b[39mpop(\u001b[39m\"\u001b[39m\u001b[39msmart_resize\u001b[39m\u001b[39m\"\u001b[39m)\n\u001b[0;32m    164\u001b[0m \u001b[39mif\u001b[39;00m kwargs:\n\u001b[1;32m--> 165\u001b[0m     \u001b[39mraise\u001b[39;00m \u001b[39mTypeError\u001b[39;00m(\u001b[39mf\u001b[39m\u001b[39m\"\u001b[39m\u001b[39mUnknown keywords argument(s): \u001b[39m\u001b[39m{\u001b[39;00m\u001b[39mtuple\u001b[39m(kwargs\u001b[39m.\u001b[39mkeys())\u001b[39m}\u001b[39;00m\u001b[39m\"\u001b[39m)\n\u001b[0;32m    166\u001b[0m \u001b[39mif\u001b[39;00m labels \u001b[39mnot\u001b[39;00m \u001b[39min\u001b[39;00m (\u001b[39m\"\u001b[39m\u001b[39minferred\u001b[39m\u001b[39m\"\u001b[39m, \u001b[39mNone\u001b[39;00m):\n\u001b[0;32m    167\u001b[0m     \u001b[39mif\u001b[39;00m \u001b[39mnot\u001b[39;00m \u001b[39misinstance\u001b[39m(labels, (\u001b[39mlist\u001b[39m, \u001b[39mtuple\u001b[39m)):\n",
      "\u001b[1;31mTypeError\u001b[0m: Unknown keywords argument(s): ('target_size',)"
     ]
    }
   ],
   "source": [
    "imageDataset_train, imageDataset_test = tf.keras.utils.image_dataset_from_directory(file_path,\n",
    "                                            labels='inferred',\n",
    "                                            label_mode = 'categorical',\n",
    "                                            class_names = classes_,\n",
    "                                            color_mode='rgb',\n",
    "                                            subset = 'both', validation_split = 0.4,\n",
    "                                            shuffle = True, seed = 42,\n",
    "                                            image_size = (254, 254),\n",
    "                                            batch_size = BATCH_SIZE)"
   ]
  },
  {
   "cell_type": "code",
   "execution_count": 117,
   "metadata": {},
   "outputs": [
    {
     "name": "stderr",
     "output_type": "stream",
     "text": [
      "Clipping input data to the valid range for imshow with RGB data ([0..1] for floats or [0..255] for integers).\n"
     ]
    },
    {
     "name": "stdout",
     "output_type": "stream",
     "text": [
      "(32, 254, 254, 3) (32, 150)\n",
      "tf.Tensor(\n",
      "[[[  8.         94.        145.       ]\n",
      "  [  8.         94.        145.       ]\n",
      "  [  8.         94.        145.       ]\n",
      "  ...\n",
      "  [  3.        122.        154.       ]\n",
      "  [  3.        122.        154.       ]\n",
      "  [  3.        122.        154.       ]]\n",
      "\n",
      " [[  8.         94.        145.       ]\n",
      "  [  8.         94.        145.       ]\n",
      "  [  8.         94.        145.       ]\n",
      "  ...\n",
      "  [  3.        122.        154.       ]\n",
      "  [  3.        122.        154.       ]\n",
      "  [  3.        122.        154.       ]]\n",
      "\n",
      " [[  8.         94.        145.       ]\n",
      "  [  8.         94.        145.       ]\n",
      "  [  8.         94.        145.       ]\n",
      "  ...\n",
      "  [  2.7440946 122.255905  154.       ]\n",
      "  [  2.7440946 122.255905  154.       ]\n",
      "  [  2.7440946 122.255905  154.       ]]\n",
      "\n",
      " ...\n",
      "\n",
      " [[  3.        134.        162.       ]\n",
      "  [  3.        134.        162.       ]\n",
      "  [  3.        134.        162.       ]\n",
      "  ...\n",
      "  [  3.        134.        162.       ]\n",
      "  [  3.        134.        162.       ]\n",
      "  [  3.        134.        162.       ]]\n",
      "\n",
      " [[  3.        134.        162.       ]\n",
      "  [  3.        134.        162.       ]\n",
      "  [  3.        134.        162.       ]\n",
      "  ...\n",
      "  [  3.        134.        162.       ]\n",
      "  [  3.        134.        162.       ]\n",
      "  [  3.        134.        162.       ]]\n",
      "\n",
      " [[  3.        134.        162.       ]\n",
      "  [  3.        134.        162.       ]\n",
      "  [  3.        134.        162.       ]\n",
      "  ...\n",
      "  [  3.        134.        162.       ]\n",
      "  [  3.        134.        162.       ]\n",
      "  [  3.        134.        162.       ]]], shape=(254, 254, 3), dtype=float32)\n"
     ]
    },
    {
     "data": {
      "text/plain": [
       "<matplotlib.image.AxesImage at 0x1b2ce101510>"
      ]
     },
     "execution_count": 117,
     "metadata": {},
     "output_type": "execute_result"
    },
    {
     "data": {
      "image/png": "[encoded data removed]",
      "text/plain": [
       "<Figure size 640x480 with 1 Axes>"
      ]
     },
     "metadata": {},
     "output_type": "display_data"
    }
   ],
   "source": [
    "f_im, f_label = next(iter(imageDataset_train))\n",
    "print(f_im.shape, f_label.shape)\n",
    "print(f_im[1])\n",
    "plt.imshow(f_im[0])"
   ]
  }
 ],
 "metadata": {
  "kernelspec": {
   "display_name": "Python 3",
   "language": "python",
   "name": "python3"
  },
  "language_info": {
   "codemirror_mode": {
    "name": "ipython",
    "version": 3
   },
   "file_extension": ".py",
   "mimetype": "text/x-python",
   "name": "python",
   "nbconvert_exporter": "python",
   "pygments_lexer": "ipython3",
   "version": "3.11.4"
  },
  "orig_nbformat": 4
 },
 "nbformat": 4,
 "nbformat_minor": 2
}
